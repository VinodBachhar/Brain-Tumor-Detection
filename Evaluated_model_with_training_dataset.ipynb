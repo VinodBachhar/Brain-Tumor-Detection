{
 "cells": [
  {
   "cell_type": "code",
   "execution_count": 1,
   "id": "0aeb5366-85ae-4d92-b5bd-3c5dfac045e8",
   "metadata": {},
   "outputs": [],
   "source": [
    "import os\n",
    "import numpy as np\n",
    "import pandas as pd\n",
    "import matplotlib.pyplot as plt\n",
    "%matplotlib inline\n",
    "import cv2\n",
    "from Functions import *"
   ]
  },
  {
   "cell_type": "code",
   "execution_count": 7,
   "id": "2a41d99a-c4c9-449c-aecb-f111726c89c2",
   "metadata": {},
   "outputs": [
    {
     "data": {
      "text/html": [
       "<div>\n",
       "<style scoped>\n",
       "    .dataframe tbody tr th:only-of-type {\n",
       "        vertical-align: middle;\n",
       "    }\n",
       "\n",
       "    .dataframe tbody tr th {\n",
       "        vertical-align: top;\n",
       "    }\n",
       "\n",
       "    .dataframe thead th {\n",
       "        text-align: right;\n",
       "    }\n",
       "</style>\n",
       "<table border=\"1\" class=\"dataframe\">\n",
       "  <thead>\n",
       "    <tr style=\"text-align: right;\">\n",
       "      <th></th>\n",
       "      <th>Mean</th>\n",
       "      <th>std</th>\n",
       "      <th>Variance</th>\n",
       "      <th>Skewness</th>\n",
       "      <th>Entropy</th>\n",
       "      <th>RMS</th>\n",
       "      <th>Kurtios</th>\n",
       "      <th>HMI1</th>\n",
       "      <th>HMI2</th>\n",
       "      <th>HMI3</th>\n",
       "      <th>...</th>\n",
       "      <th>homogeneity4</th>\n",
       "      <th>energy1</th>\n",
       "      <th>energy2</th>\n",
       "      <th>energy3</th>\n",
       "      <th>energy4</th>\n",
       "      <th>correlation1</th>\n",
       "      <th>correlation2</th>\n",
       "      <th>correlation3</th>\n",
       "      <th>correlation4</th>\n",
       "      <th>Class</th>\n",
       "    </tr>\n",
       "  </thead>\n",
       "  <tbody>\n",
       "    <tr>\n",
       "      <th>0</th>\n",
       "      <td>42.088384</td>\n",
       "      <td>50.356683</td>\n",
       "      <td>2535.795494</td>\n",
       "      <td>2.049944</td>\n",
       "      <td>6.553086</td>\n",
       "      <td>8.875129</td>\n",
       "      <td>5.073736</td>\n",
       "      <td>2.617668</td>\n",
       "      <td>7.231273</td>\n",
       "      <td>9.914340</td>\n",
       "      <td>...</td>\n",
       "      <td>0.306209</td>\n",
       "      <td>0.212378</td>\n",
       "      <td>0.206820</td>\n",
       "      <td>0.214469</td>\n",
       "      <td>0.205028</td>\n",
       "      <td>0.895421</td>\n",
       "      <td>0.864810</td>\n",
       "      <td>0.906165</td>\n",
       "      <td>0.862465</td>\n",
       "      <td>0</td>\n",
       "    </tr>\n",
       "    <tr>\n",
       "      <th>1</th>\n",
       "      <td>55.212544</td>\n",
       "      <td>46.056565</td>\n",
       "      <td>2121.207208</td>\n",
       "      <td>0.370450</td>\n",
       "      <td>5.375762</td>\n",
       "      <td>9.302612</td>\n",
       "      <td>-0.628678</td>\n",
       "      <td>2.752905</td>\n",
       "      <td>8.030957</td>\n",
       "      <td>11.070417</td>\n",
       "      <td>...</td>\n",
       "      <td>0.513325</td>\n",
       "      <td>0.177499</td>\n",
       "      <td>0.172328</td>\n",
       "      <td>0.180325</td>\n",
       "      <td>0.171641</td>\n",
       "      <td>0.969317</td>\n",
       "      <td>0.959636</td>\n",
       "      <td>0.974818</td>\n",
       "      <td>0.958198</td>\n",
       "      <td>0</td>\n",
       "    </tr>\n",
       "    <tr>\n",
       "      <th>2</th>\n",
       "      <td>76.037273</td>\n",
       "      <td>79.565990</td>\n",
       "      <td>6330.746828</td>\n",
       "      <td>0.585233</td>\n",
       "      <td>5.781641</td>\n",
       "      <td>7.635726</td>\n",
       "      <td>-0.877843</td>\n",
       "      <td>2.904895</td>\n",
       "      <td>7.803627</td>\n",
       "      <td>12.448359</td>\n",
       "      <td>...</td>\n",
       "      <td>0.432991</td>\n",
       "      <td>0.230150</td>\n",
       "      <td>0.221221</td>\n",
       "      <td>0.232777</td>\n",
       "      <td>0.221043</td>\n",
       "      <td>0.969677</td>\n",
       "      <td>0.958555</td>\n",
       "      <td>0.973180</td>\n",
       "      <td>0.957760</td>\n",
       "      <td>0</td>\n",
       "    </tr>\n",
       "    <tr>\n",
       "      <th>3</th>\n",
       "      <td>49.957904</td>\n",
       "      <td>48.439813</td>\n",
       "      <td>2346.415459</td>\n",
       "      <td>1.237070</td>\n",
       "      <td>5.764681</td>\n",
       "      <td>10.755480</td>\n",
       "      <td>1.467716</td>\n",
       "      <td>2.720641</td>\n",
       "      <td>7.122902</td>\n",
       "      <td>10.259218</td>\n",
       "      <td>...</td>\n",
       "      <td>0.466591</td>\n",
       "      <td>0.179320</td>\n",
       "      <td>0.170887</td>\n",
       "      <td>0.181765</td>\n",
       "      <td>0.170025</td>\n",
       "      <td>0.959890</td>\n",
       "      <td>0.947522</td>\n",
       "      <td>0.966923</td>\n",
       "      <td>0.945591</td>\n",
       "      <td>0</td>\n",
       "    </tr>\n",
       "    <tr>\n",
       "      <th>4</th>\n",
       "      <td>53.652053</td>\n",
       "      <td>59.587603</td>\n",
       "      <td>3550.682395</td>\n",
       "      <td>1.574931</td>\n",
       "      <td>4.946379</td>\n",
       "      <td>10.302398</td>\n",
       "      <td>2.218936</td>\n",
       "      <td>2.779911</td>\n",
       "      <td>7.267831</td>\n",
       "      <td>10.447366</td>\n",
       "      <td>...</td>\n",
       "      <td>0.490227</td>\n",
       "      <td>0.232071</td>\n",
       "      <td>0.220649</td>\n",
       "      <td>0.233649</td>\n",
       "      <td>0.221646</td>\n",
       "      <td>0.949499</td>\n",
       "      <td>0.932350</td>\n",
       "      <td>0.958399</td>\n",
       "      <td>0.931763</td>\n",
       "      <td>0</td>\n",
       "    </tr>\n",
       "  </tbody>\n",
       "</table>\n",
       "<p>5 rows × 40 columns</p>\n",
       "</div>"
      ],
      "text/plain": [
       "        Mean        std     Variance  Skewness   Entropy        RMS   Kurtios  \\\n",
       "0  42.088384  50.356683  2535.795494  2.049944  6.553086   8.875129  5.073736   \n",
       "1  55.212544  46.056565  2121.207208  0.370450  5.375762   9.302612 -0.628678   \n",
       "2  76.037273  79.565990  6330.746828  0.585233  5.781641   7.635726 -0.877843   \n",
       "3  49.957904  48.439813  2346.415459  1.237070  5.764681  10.755480  1.467716   \n",
       "4  53.652053  59.587603  3550.682395  1.574931  4.946379  10.302398  2.218936   \n",
       "\n",
       "       HMI1      HMI2       HMI3  ...  homogeneity4   energy1   energy2  \\\n",
       "0  2.617668  7.231273   9.914340  ...      0.306209  0.212378  0.206820   \n",
       "1  2.752905  8.030957  11.070417  ...      0.513325  0.177499  0.172328   \n",
       "2  2.904895  7.803627  12.448359  ...      0.432991  0.230150  0.221221   \n",
       "3  2.720641  7.122902  10.259218  ...      0.466591  0.179320  0.170887   \n",
       "4  2.779911  7.267831  10.447366  ...      0.490227  0.232071  0.220649   \n",
       "\n",
       "    energy3   energy4  correlation1  correlation2  correlation3  correlation4  \\\n",
       "0  0.214469  0.205028      0.895421      0.864810      0.906165      0.862465   \n",
       "1  0.180325  0.171641      0.969317      0.959636      0.974818      0.958198   \n",
       "2  0.232777  0.221043      0.969677      0.958555      0.973180      0.957760   \n",
       "3  0.181765  0.170025      0.959890      0.947522      0.966923      0.945591   \n",
       "4  0.233649  0.221646      0.949499      0.932350      0.958399      0.931763   \n",
       "\n",
       "   Class  \n",
       "0      0  \n",
       "1      0  \n",
       "2      0  \n",
       "3      0  \n",
       "4      0  \n",
       "\n",
       "[5 rows x 40 columns]"
      ]
     },
     "execution_count": 7,
     "metadata": {},
     "output_type": "execute_result"
    }
   ],
   "source": [
    "df = pd.read_csv(\"training_dataset.csv\")\n",
    "df.head()"
   ]
  },
  {
   "cell_type": "code",
   "execution_count": 3,
   "id": "29bfc989-574c-4351-8053-c4e74adecb18",
   "metadata": {},
   "outputs": [
    {
     "name": "stdout",
     "output_type": "stream",
     "text": [
      "The shape of the data set:\n",
      "The data set consists of 5711 rows and 40 columns.\n",
      "\n",
      "***********************************************\n",
      "The existence of missing values in each column:\n",
      "Mean                   False\n",
      "std                    False\n",
      "Variance               False\n",
      "Skewness               False\n",
      "Entropy                False\n",
      "RMS                    False\n",
      "Kurtios                False\n",
      "HMI1                   False\n",
      "HMI2                   False\n",
      "HMI3                   False\n",
      "HMI4                   False\n",
      "Area                    True\n",
      "Perimeter               True\n",
      "Circle                  True\n",
      "Convex Area             True\n",
      "Solidity                True\n",
      "Equivalent Diameter     True\n",
      "Major Axis              True\n",
      "Minor Axis              True\n",
      "contrast1              False\n",
      "contrast2              False\n",
      "contrast3              False\n",
      "contrast4              False\n",
      "dissimilarity1         False\n",
      "dissimilarity2         False\n",
      "dissimilarity3         False\n",
      "dissimilarity4         False\n",
      "homogeneity1           False\n",
      "homogeneity2           False\n",
      "homogeneity3           False\n",
      "homogeneity4           False\n",
      "energy1                False\n",
      "energy2                False\n",
      "energy3                False\n",
      "energy4                False\n",
      "correlation1           False\n",
      "correlation2           False\n",
      "correlation3           False\n",
      "correlation4           False\n",
      "Class                  False\n",
      "dtype: bool\n",
      "\n",
      "***********************************************\n",
      "General information about the data:\n",
      "<class 'pandas.core.frame.DataFrame'>\n",
      "RangeIndex: 5711 entries, 0 to 5710\n",
      "Data columns (total 40 columns):\n",
      " #   Column               Non-Null Count  Dtype  \n",
      "---  ------               --------------  -----  \n",
      " 0   Mean                 5711 non-null   float64\n",
      " 1   std                  5711 non-null   float64\n",
      " 2   Variance             5711 non-null   float64\n",
      " 3   Skewness             5711 non-null   float64\n",
      " 4   Entropy              5711 non-null   float64\n",
      " 5   RMS                  5711 non-null   float64\n",
      " 6   Kurtios              5711 non-null   float64\n",
      " 7   HMI1                 5711 non-null   float64\n",
      " 8   HMI2                 5711 non-null   float64\n",
      " 9   HMI3                 5711 non-null   float64\n",
      " 10  HMI4                 5711 non-null   float64\n",
      " 11  Area                 5052 non-null   float64\n",
      " 12  Perimeter            5052 non-null   float64\n",
      " 13  Circle               5052 non-null   float64\n",
      " 14  Convex Area          5052 non-null   float64\n",
      " 15  Solidity             5052 non-null   float64\n",
      " 16  Equivalent Diameter  5052 non-null   float64\n",
      " 17  Major Axis           5052 non-null   float64\n",
      " 18  Minor Axis           5052 non-null   float64\n",
      " 19  contrast1            5711 non-null   float64\n",
      " 20  contrast2            5711 non-null   float64\n",
      " 21  contrast3            5711 non-null   float64\n",
      " 22  contrast4            5711 non-null   float64\n",
      " 23  dissimilarity1       5711 non-null   float64\n",
      " 24  dissimilarity2       5711 non-null   float64\n",
      " 25  dissimilarity3       5711 non-null   float64\n",
      " 26  dissimilarity4       5711 non-null   float64\n",
      " 27  homogeneity1         5711 non-null   float64\n",
      " 28  homogeneity2         5711 non-null   float64\n",
      " 29  homogeneity3         5711 non-null   float64\n",
      " 30  homogeneity4         5711 non-null   float64\n",
      " 31  energy1              5711 non-null   float64\n",
      " 32  energy2              5711 non-null   float64\n",
      " 33  energy3              5711 non-null   float64\n",
      " 34  energy4              5711 non-null   float64\n",
      " 35  correlation1         5711 non-null   float64\n",
      " 36  correlation2         5711 non-null   float64\n",
      " 37  correlation3         5711 non-null   float64\n",
      " 38  correlation4         5711 non-null   float64\n",
      " 39  Class                5711 non-null   int64  \n",
      "dtypes: float64(39), int64(1)\n",
      "memory usage: 1.7 MB\n",
      "None\n",
      "\n",
      "***********************************************\n",
      "The number of unique values in each column:\n",
      "Mean                   5502\n",
      "std                    5504\n",
      "Variance               5504\n",
      "Skewness               5504\n",
      "Entropy                5503\n",
      "RMS                    5503\n",
      "Kurtios                5504\n",
      "HMI1                   5500\n",
      "HMI2                   5500\n",
      "HMI3                   5500\n",
      "HMI4                   5500\n",
      "Area                   4716\n",
      "Perimeter              4853\n",
      "Circle                 4863\n",
      "Convex Area            4812\n",
      "Solidity               4863\n",
      "Equivalent Diameter    4834\n",
      "Major Axis             4864\n",
      "Minor Axis             4865\n",
      "contrast1              5496\n",
      "contrast2              5496\n",
      "contrast3              5496\n",
      "contrast4              5496\n",
      "dissimilarity1         5496\n",
      "dissimilarity2         5496\n",
      "dissimilarity3         5496\n",
      "dissimilarity4         5496\n",
      "homogeneity1           5496\n",
      "homogeneity2           5496\n",
      "homogeneity3           5496\n",
      "homogeneity4           5496\n",
      "energy1                5496\n",
      "energy2                5496\n",
      "energy3                5496\n",
      "energy4                5496\n",
      "correlation1           5496\n",
      "correlation2           5496\n",
      "correlation3           5496\n",
      "correlation4           5496\n",
      "Class                     4\n",
      "dtype: int64\n"
     ]
    }
   ],
   "source": [
    "data_analysis(df)"
   ]
  },
  {
   "cell_type": "code",
   "execution_count": 4,
   "id": "f0d5b4e1-d322-4d30-807a-a6665cde2a5f",
   "metadata": {},
   "outputs": [
    {
     "data": {
      "text/plain": [
       "Mean                   0\n",
       "std                    0\n",
       "Variance               0\n",
       "Skewness               0\n",
       "Entropy                0\n",
       "RMS                    0\n",
       "Kurtios                0\n",
       "HMI1                   0\n",
       "HMI2                   0\n",
       "HMI3                   0\n",
       "HMI4                   0\n",
       "Area                   0\n",
       "Perimeter              0\n",
       "Circle                 0\n",
       "Convex Area            0\n",
       "Solidity               0\n",
       "Equivalent Diameter    0\n",
       "Major Axis             0\n",
       "Minor Axis             0\n",
       "contrast1              0\n",
       "contrast2              0\n",
       "contrast3              0\n",
       "contrast4              0\n",
       "dissimilarity1         0\n",
       "dissimilarity2         0\n",
       "dissimilarity3         0\n",
       "dissimilarity4         0\n",
       "homogeneity1           0\n",
       "homogeneity2           0\n",
       "homogeneity3           0\n",
       "homogeneity4           0\n",
       "energy1                0\n",
       "energy2                0\n",
       "energy3                0\n",
       "energy4                0\n",
       "correlation1           0\n",
       "correlation2           0\n",
       "correlation3           0\n",
       "correlation4           0\n",
       "Class                  0\n",
       "dtype: int64"
      ]
     },
     "execution_count": 4,
     "metadata": {},
     "output_type": "execute_result"
    }
   ],
   "source": [
    "# df = df.dropna()\n",
    "\n",
    "missing_data = ['Area', 'Perimeter', 'Circle', 'Convex Area', 'Solidity', 'Equivalent Diameter', 'Major Axis', 'Minor Axis']\n",
    "for i in missing_data:\n",
    "    fill_list = df[i].dropna().tolist()\n",
    "    # df[i] = df[i].fillna(pd.Series(np.random.choice(fill_list , size = len(df.index))))\n",
    "    mean_fill = np.mean(fill_list)\n",
    "    df[i] = df[i].fillna(mean_fill)\n",
    "df.isnull().sum()"
   ]
  },
  {
   "cell_type": "code",
   "execution_count": 5,
   "id": "094c8442-83bc-49f0-bd25-013fefbc4419",
   "metadata": {},
   "outputs": [],
   "source": [
    "X = df.drop(columns=[\"Class\"])\n",
    "y = df[\"Class\"]"
   ]
  },
  {
   "cell_type": "markdown",
   "id": "6a2951a0-3728-4619-b73b-e01e7ef410df",
   "metadata": {},
   "source": [
    "feature selection"
   ]
  },
  {
   "cell_type": "code",
   "execution_count": 8,
   "id": "dd6ed6bc-05fc-4c82-987c-96d2decd7a36",
   "metadata": {},
   "outputs": [],
   "source": [
    "from sklearn.model_selection import train_test_split\n",
    "X_train,X_test,y_train,y_test = train_test_split(X,y,test_size=0.2,random_state=42)"
   ]
  },
  {
   "cell_type": "markdown",
   "id": "e00bb466-faa4-4ba8-b0d9-e0553d879da9",
   "metadata": {},
   "source": [
    "RF"
   ]
  },
  {
   "cell_type": "code",
   "execution_count": 9,
   "id": "cf265ad3-43d4-456f-8add-5dc42697af78",
   "metadata": {},
   "outputs": [
    {
     "name": "stdout",
     "output_type": "stream",
     "text": [
      "Train Acc of Random Forest : 1.0\n",
      "Test Acc of Random Forest : 0.8906386701662292\n"
     ]
    }
   ],
   "source": [
    "from sklearn.ensemble import RandomForestClassifier\n",
    "rf_clf = RandomForestClassifier()\n",
    "# Fit the parameters before oversampling:\n",
    "rf_clf.fit(X_train, y_train)\n",
    "print(f\"Train Acc of Random Forest : {rf_clf.score(X_train,y_train)}\")\n",
    "# rf_clf.score(X_test,y_test)\n",
    "print(f\"Test Acc of Random Forest : {rf_clf.score(X_test,y_test)}\")"
   ]
  },
  {
   "cell_type": "markdown",
   "id": "26182f8b-b166-4a9d-af26-ac00d323ede4",
   "metadata": {},
   "source": [
    "SVM"
   ]
  },
  {
   "cell_type": "code",
   "execution_count": 10,
   "id": "2d95afbe-9306-4180-81fc-12c99bcf255d",
   "metadata": {},
   "outputs": [
    {
     "name": "stdout",
     "output_type": "stream",
     "text": [
      "Train Acc of SVM : 1.0\n",
      "Test Acc of SVM : 0.4925634295713036\n"
     ]
    }
   ],
   "source": [
    "from sklearn.svm import SVC\n",
    "clf1 = SVC(kernel='rbf',C=100,gamma=0.001)\n",
    "clf1.fit(X_train, y_train)\n",
    "print(f\"Train Acc of SVM : {clf1.score(X_train,y_train)}\")\n",
    "print(f\"Test Acc of SVM : {clf1.score(X_test,y_test)}\")"
   ]
  },
  {
   "cell_type": "markdown",
   "id": "6baf3744-4f82-4499-9750-1ef753db69c2",
   "metadata": {},
   "source": [
    "KNN"
   ]
  },
  {
   "cell_type": "code",
   "execution_count": 21,
   "id": "934d333d-8abb-4c7f-9b31-7c4631e7b7d8",
   "metadata": {},
   "outputs": [
    {
     "name": "stdout",
     "output_type": "stream",
     "text": [
      "Train acc of KNN  : 0.899737302977233\n",
      "Test acc of KNN  : 0.8705161854768154\n"
     ]
    }
   ],
   "source": [
    "from sklearn.neighbors import KNeighborsClassifier\n",
    "knn2 = KNeighborsClassifier(n_neighbors=7)\n",
    "# Fit the data to knn model\n",
    "knn2.fit(X_trainn,y_trainn)\n",
    "print(f\"Train acc of KNN  : {knn2.score(X_trainn,y_trainn)}\")\n",
    "print(f\"Test acc of KNN  : {knn2.score(X_testn,y_testn)}\")"
   ]
  },
  {
   "cell_type": "markdown",
   "id": "1c3b24fb-4847-498a-81cd-2d6b21d0eea9",
   "metadata": {},
   "source": [
    "PCA and StandardScaler"
   ]
  },
  {
   "cell_type": "code",
   "execution_count": 12,
   "id": "36f43ea5-60c5-4188-a7c8-524fa47e0ea9",
   "metadata": {},
   "outputs": [],
   "source": [
    "from sklearn.decomposition import PCA\n",
    "from sklearn.preprocessing import StandardScaler\n",
    "pca_m = PCA(n_components=37)\n",
    "\n",
    "new_X = pca_m.fit_transform(X)\n",
    "scaler = StandardScaler()\n",
    "new_X = scaler.fit_transform(new_X)"
   ]
  },
  {
   "cell_type": "code",
   "execution_count": 13,
   "id": "4dbac4e4-8364-4437-b0cd-3e6dbed02101",
   "metadata": {},
   "outputs": [],
   "source": [
    "X_trainn,X_testn,y_trainn,y_testn = train_test_split(new_X,y,test_size=0.2,random_state=42)"
   ]
  },
  {
   "cell_type": "markdown",
   "id": "f03938ce-2ee2-4a52-bffd-14922e52c50a",
   "metadata": {},
   "source": [
    "RF PCA"
   ]
  },
  {
   "cell_type": "code",
   "execution_count": 14,
   "id": "2f600706-4e25-4170-b69a-9e9e2e85d42d",
   "metadata": {},
   "outputs": [
    {
     "name": "stdout",
     "output_type": "stream",
     "text": [
      "Train Acc of Random Forest PCA : 1.0\n",
      "Test Acc of Random Forest PCA : 0.9002624671916011\n"
     ]
    }
   ],
   "source": [
    "from sklearn.ensemble import RandomForestClassifier\n",
    "rf_clf2 = RandomForestClassifier()\n",
    "# Fit the parameters before oversampling:\n",
    "rf_clf2.fit(X_trainn, y_trainn)\n",
    "print(f\"Train Acc of Random Forest PCA : {rf_clf2.score(X_trainn,y_trainn)}\")\n",
    "print(f\"Test Acc of Random Forest PCA : {rf_clf2.score(X_testn,y_testn)}\")"
   ]
  },
  {
   "cell_type": "markdown",
   "id": "58eebc07-4160-467d-a007-a1aad579c3d6",
   "metadata": {},
   "source": [
    "SVM PCA"
   ]
  },
  {
   "cell_type": "code",
   "execution_count": 15,
   "id": "97df927e-3d70-4b09-99a7-3e63726d79f6",
   "metadata": {},
   "outputs": [
    {
     "name": "stdout",
     "output_type": "stream",
     "text": [
      "Train Acc of SVM PCA : 0.8669001751313485\n",
      "Test Acc of SVM PCA : 0.8643919510061242\n"
     ]
    }
   ],
   "source": [
    "from sklearn.svm import SVC\n",
    "clf2 = SVC(kernel='linear',C=100,gamma=0.001)\n",
    "clf2.fit(X_trainn, y_trainn)\n",
    "\n",
    "print(f\"Train Acc of SVM PCA : {clf2.score(X_trainn,y_trainn)}\")\n",
    "print(f\"Test Acc of SVM PCA : {clf2.score(X_testn,y_testn)}\")"
   ]
  },
  {
   "cell_type": "markdown",
   "id": "52b3120e-0dfe-446e-a48d-94846f07ed06",
   "metadata": {},
   "source": [
    "KNN PCA"
   ]
  },
  {
   "cell_type": "code",
   "execution_count": 17,
   "id": "41326855-50d7-4171-bfb3-10828ada7214",
   "metadata": {},
   "outputs": [
    {
     "name": "stdout",
     "output_type": "stream",
     "text": [
      "Train acc of KNN PCA : 0.899737302977233\n",
      "Test acc of KNN PCA : 0.8705161854768154\n"
     ]
    }
   ],
   "source": [
    "knn2 = KNeighborsClassifier(n_neighbors=7)\n",
    "# Fit the data to knn model\n",
    "knn2.fit(X_trainn,y_trainn)\n",
    "print(f\"Train acc of KNN PCA : {knn2.score(X_trainn,y_trainn)}\")\n",
    "print(f\"Test acc of KNN PCA : {knn2.score(X_testn,y_testn)}\")"
   ]
  },
  {
   "cell_type": "code",
   "execution_count": 22,
   "id": "8928c0bc-2905-4bc1-805b-cbca6e7aa96a",
   "metadata": {},
   "outputs": [],
   "source": [
    "import numpy as np\n",
    "import matplotlib.pyplot as plt\n",
    "import seaborn as sns\n",
    "from sklearn.metrics import accuracy_score, precision_score, recall_score, f1_score, confusion_matrix, classification_report\n",
    "\n",
    "def evaluate_classification_model(model, X_test, y_test):\n",
    "    # Make predictions on the test set\n",
    "    y_pred = model.predict(X_test)\n",
    "\n",
    "    # Compute evaluation metrics\n",
    "    accuracy = accuracy_score(y_test, y_pred)\n",
    "    precision = precision_score(y_test, y_pred, average='weighted')\n",
    "    recall = recall_score(y_test, y_pred, average='weighted')\n",
    "    f1 = f1_score(y_test, y_pred, average='weighted')\n",
    "    cm = confusion_matrix(y_test, y_pred)\n",
    "\n",
    "    # Print the evaluation metrics\n",
    "    print(\"Accuracy:\", accuracy)\n",
    "    print(\"Precision:\", precision)\n",
    "    print(\"Recall:\", recall)\n",
    "    print(\"F1-score:\", f1)\n",
    "\n",
    "    # Plot the confusion matrix\n",
    "    labels = np.unique(y_test)\n",
    "    sns.heatmap(cm, annot=True, fmt='d', cmap='Blues', xticklabels=labels, yticklabels=labels)\n",
    "    plt.title('Confusion Matrix')\n",
    "    plt.xlabel('Predicted Label')\n",
    "    plt.ylabel('True Label')\n",
    "    plt.show()"
   ]
  },
  {
   "cell_type": "markdown",
   "id": "cf8f350b-45eb-45bd-9058-f236a8ab2f27",
   "metadata": {},
   "source": [
    "RF "
   ]
  },
  {
   "cell_type": "code",
   "execution_count": 23,
   "id": "b11f478e-2fb9-4a34-9fd7-703c97f6c153",
   "metadata": {},
   "outputs": [
    {
     "name": "stdout",
     "output_type": "stream",
     "text": [
      "Accuracy: 1.0\n",
      "Precision: 1.0\n",
      "Recall: 1.0\n",
      "F1-score: 1.0\n"
     ]
    },
    {
     "data": {
      "image/png": "[encoded data removed]",
      "text/plain": [
       "<Figure size 640x480 with 2 Axes>"
      ]
     },
     "metadata": {},
     "output_type": "display_data"
    }
   ],
   "source": [
    "evaluate_classification_model(rf_clf2,X_trainn,y_trainn)"
   ]
  },
  {
   "cell_type": "markdown",
   "id": "20d185b8-a33a-4a90-897a-fe921f482558",
   "metadata": {},
   "source": [
    "SVM"
   ]
  },
  {
   "cell_type": "code",
   "execution_count": 25,
   "id": "20876db2-493f-44ed-b104-30b879f3a610",
   "metadata": {},
   "outputs": [
    {
     "name": "stdout",
     "output_type": "stream",
     "text": [
      "Accuracy: 0.8669001751313485\n",
      "Precision: 0.8649566730060104\n",
      "Recall: 0.8669001751313485\n",
      "F1-score: 0.865646717814882\n"
     ]
    },
    {
     "data": {
      "image/png": "[encoded data removed]",
      "text/plain": [
       "<Figure size 640x480 with 2 Axes>"
      ]
     },
     "metadata": {},
     "output_type": "display_data"
    }
   ],
   "source": [
    "evaluate_classification_model(clf2,X_trainn,y_trainn)"
   ]
  },
  {
   "cell_type": "markdown",
   "id": "dcee1bb3-5727-4f5f-9b28-8963bd2a875b",
   "metadata": {},
   "source": [
    "KNN"
   ]
  },
  {
   "cell_type": "code",
   "execution_count": 26,
   "id": "fb8af3a2-c392-4ccf-bd7d-b0e4f8d872a4",
   "metadata": {},
   "outputs": [
    {
     "name": "stdout",
     "output_type": "stream",
     "text": [
      "Accuracy: 0.899737302977233\n",
      "Precision: 0.900298164781378\n",
      "Recall: 0.899737302977233\n",
      "F1-score: 0.8993005473643423\n"
     ]
    },
    {
     "data": {
      "image/png": "[encoded data removed]",
      "text/plain": [
       "<Figure size 640x480 with 2 Axes>"
      ]
     },
     "metadata": {},
     "output_type": "display_data"
    }
   ],
   "source": [
    "evaluate_classification_model(knn2,X_trainn,y_trainn)"
   ]
  },
  {
   "cell_type": "code",
   "execution_count": 28,
   "id": "67dcf5d2-8c31-4d66-85db-fb119b35810e",
   "metadata": {},
   "outputs": [],
   "source": [
    "def cmatrix_fun(model_name, actual, predicted, color):\n",
    "    # check the confusion matrix\n",
    "    cm = confusion_matrix(actual, predicted) \n",
    "    print(cm)\n",
    "\n",
    "    # Plot the CM\n",
    "    ax = sns.heatmap(cm/np.sum(cm), annot=True, fmt='.2%', cmap=color)\n",
    "\n",
    "    ax.set_title(f'The confusion matrix using {model_name} Classifier \\n\\n');\n",
    "    ax.set_xlabel('\\nPredicted Values')\n",
    "    ax.set_ylabel('Actual Values ')\n",
    "    plt.show()"
   ]
  },
  {
   "cell_type": "code",
   "execution_count": null,
   "id": "ecec33ac-2218-4455-ab36-6519986bfc2f",
   "metadata": {},
   "outputs": [],
   "source": []
  }
 ],
 "metadata": {
  "kernelspec": {
   "display_name": "Python 3 (ipykernel)",
   "language": "python",
   "name": "python3"
  },
  "language_info": {
   "codemirror_mode": {
    "name": "ipython",
    "version": 3
   },
   "file_extension": ".py",
   "mimetype": "text/x-python",
   "name": "python",
   "nbconvert_exporter": "python",
   "pygments_lexer": "ipython3",
   "version": "3.11.7"
  }
 },
 "nbformat": 4,
 "nbformat_minor": 5
}
