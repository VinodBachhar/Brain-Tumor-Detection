{
 "cells": [
  {
   "cell_type": "code",
   "execution_count": 1,
   "id": "204f5e65-61ec-4620-b62e-e9e21c0b4d97",
   "metadata": {},
   "outputs": [],
   "source": [
    "import os\n",
    "import numpy as np\n",
    "import pandas as pd\n",
    "import matplotlib.pyplot as plt\n",
    "%matplotlib inline\n",
    "import cv2"
   ]
  },
  {
   "cell_type": "code",
   "execution_count": 2,
   "id": "e499db3b-f1ca-4b5e-b5a6-a5fb83347fb7",
   "metadata": {},
   "outputs": [],
   "source": [
    "accs = []"
   ]
  },
  {
   "cell_type": "code",
   "execution_count": 3,
   "id": "c3b8de0b-50ab-49df-a913-0097629dae97",
   "metadata": {},
   "outputs": [
    {
     "data": {
      "text/html": [
       "<div>\n",
       "<style scoped>\n",
       "    .dataframe tbody tr th:only-of-type {\n",
       "        vertical-align: middle;\n",
       "    }\n",
       "\n",
       "    .dataframe tbody tr th {\n",
       "        vertical-align: top;\n",
       "    }\n",
       "\n",
       "    .dataframe thead th {\n",
       "        text-align: right;\n",
       "    }\n",
       "</style>\n",
       "<table border=\"1\" class=\"dataframe\">\n",
       "  <thead>\n",
       "    <tr style=\"text-align: right;\">\n",
       "      <th></th>\n",
       "      <th>Mean</th>\n",
       "      <th>std</th>\n",
       "      <th>Variance</th>\n",
       "      <th>Skewness</th>\n",
       "      <th>Entropy</th>\n",
       "      <th>RMS</th>\n",
       "      <th>Kurtios</th>\n",
       "      <th>HMI1</th>\n",
       "      <th>HMI2</th>\n",
       "      <th>HMI3</th>\n",
       "      <th>...</th>\n",
       "      <th>homogeneity4</th>\n",
       "      <th>energy1</th>\n",
       "      <th>energy2</th>\n",
       "      <th>energy3</th>\n",
       "      <th>energy4</th>\n",
       "      <th>correlation1</th>\n",
       "      <th>correlation2</th>\n",
       "      <th>correlation3</th>\n",
       "      <th>correlation4</th>\n",
       "      <th>Class</th>\n",
       "    </tr>\n",
       "  </thead>\n",
       "  <tbody>\n",
       "    <tr>\n",
       "      <th>0</th>\n",
       "      <td>42.088384</td>\n",
       "      <td>50.356683</td>\n",
       "      <td>2535.795494</td>\n",
       "      <td>2.049944</td>\n",
       "      <td>6.553086</td>\n",
       "      <td>8.875129</td>\n",
       "      <td>5.073736</td>\n",
       "      <td>2.617668</td>\n",
       "      <td>7.231273</td>\n",
       "      <td>9.914340</td>\n",
       "      <td>...</td>\n",
       "      <td>0.306209</td>\n",
       "      <td>0.212378</td>\n",
       "      <td>0.206820</td>\n",
       "      <td>0.214469</td>\n",
       "      <td>0.205028</td>\n",
       "      <td>0.895421</td>\n",
       "      <td>0.864810</td>\n",
       "      <td>0.906165</td>\n",
       "      <td>0.862465</td>\n",
       "      <td>0</td>\n",
       "    </tr>\n",
       "    <tr>\n",
       "      <th>1</th>\n",
       "      <td>55.212544</td>\n",
       "      <td>46.056565</td>\n",
       "      <td>2121.207208</td>\n",
       "      <td>0.370450</td>\n",
       "      <td>5.375762</td>\n",
       "      <td>9.302612</td>\n",
       "      <td>-0.628678</td>\n",
       "      <td>2.752905</td>\n",
       "      <td>8.030957</td>\n",
       "      <td>11.070417</td>\n",
       "      <td>...</td>\n",
       "      <td>0.513325</td>\n",
       "      <td>0.177499</td>\n",
       "      <td>0.172328</td>\n",
       "      <td>0.180325</td>\n",
       "      <td>0.171641</td>\n",
       "      <td>0.969317</td>\n",
       "      <td>0.959636</td>\n",
       "      <td>0.974818</td>\n",
       "      <td>0.958198</td>\n",
       "      <td>0</td>\n",
       "    </tr>\n",
       "    <tr>\n",
       "      <th>2</th>\n",
       "      <td>76.037273</td>\n",
       "      <td>79.565990</td>\n",
       "      <td>6330.746828</td>\n",
       "      <td>0.585233</td>\n",
       "      <td>5.781641</td>\n",
       "      <td>7.635726</td>\n",
       "      <td>-0.877843</td>\n",
       "      <td>2.904895</td>\n",
       "      <td>7.803627</td>\n",
       "      <td>12.448359</td>\n",
       "      <td>...</td>\n",
       "      <td>0.432991</td>\n",
       "      <td>0.230150</td>\n",
       "      <td>0.221221</td>\n",
       "      <td>0.232777</td>\n",
       "      <td>0.221043</td>\n",
       "      <td>0.969677</td>\n",
       "      <td>0.958555</td>\n",
       "      <td>0.973180</td>\n",
       "      <td>0.957760</td>\n",
       "      <td>0</td>\n",
       "    </tr>\n",
       "    <tr>\n",
       "      <th>3</th>\n",
       "      <td>49.957904</td>\n",
       "      <td>48.439813</td>\n",
       "      <td>2346.415459</td>\n",
       "      <td>1.237070</td>\n",
       "      <td>5.764681</td>\n",
       "      <td>10.755480</td>\n",
       "      <td>1.467716</td>\n",
       "      <td>2.720641</td>\n",
       "      <td>7.122902</td>\n",
       "      <td>10.259218</td>\n",
       "      <td>...</td>\n",
       "      <td>0.466591</td>\n",
       "      <td>0.179320</td>\n",
       "      <td>0.170887</td>\n",
       "      <td>0.181765</td>\n",
       "      <td>0.170025</td>\n",
       "      <td>0.959890</td>\n",
       "      <td>0.947522</td>\n",
       "      <td>0.966923</td>\n",
       "      <td>0.945591</td>\n",
       "      <td>0</td>\n",
       "    </tr>\n",
       "    <tr>\n",
       "      <th>4</th>\n",
       "      <td>53.652053</td>\n",
       "      <td>59.587603</td>\n",
       "      <td>3550.682395</td>\n",
       "      <td>1.574931</td>\n",
       "      <td>4.946379</td>\n",
       "      <td>10.302398</td>\n",
       "      <td>2.218936</td>\n",
       "      <td>2.779911</td>\n",
       "      <td>7.267831</td>\n",
       "      <td>10.447366</td>\n",
       "      <td>...</td>\n",
       "      <td>0.490227</td>\n",
       "      <td>0.232071</td>\n",
       "      <td>0.220649</td>\n",
       "      <td>0.233649</td>\n",
       "      <td>0.221646</td>\n",
       "      <td>0.949499</td>\n",
       "      <td>0.932350</td>\n",
       "      <td>0.958399</td>\n",
       "      <td>0.931763</td>\n",
       "      <td>0</td>\n",
       "    </tr>\n",
       "  </tbody>\n",
       "</table>\n",
       "<p>5 rows × 40 columns</p>\n",
       "</div>"
      ],
      "text/plain": [
       "        Mean        std     Variance  Skewness   Entropy        RMS   Kurtios  \\\n",
       "0  42.088384  50.356683  2535.795494  2.049944  6.553086   8.875129  5.073736   \n",
       "1  55.212544  46.056565  2121.207208  0.370450  5.375762   9.302612 -0.628678   \n",
       "2  76.037273  79.565990  6330.746828  0.585233  5.781641   7.635726 -0.877843   \n",
       "3  49.957904  48.439813  2346.415459  1.237070  5.764681  10.755480  1.467716   \n",
       "4  53.652053  59.587603  3550.682395  1.574931  4.946379  10.302398  2.218936   \n",
       "\n",
       "       HMI1      HMI2       HMI3  ...  homogeneity4   energy1   energy2  \\\n",
       "0  2.617668  7.231273   9.914340  ...      0.306209  0.212378  0.206820   \n",
       "1  2.752905  8.030957  11.070417  ...      0.513325  0.177499  0.172328   \n",
       "2  2.904895  7.803627  12.448359  ...      0.432991  0.230150  0.221221   \n",
       "3  2.720641  7.122902  10.259218  ...      0.466591  0.179320  0.170887   \n",
       "4  2.779911  7.267831  10.447366  ...      0.490227  0.232071  0.220649   \n",
       "\n",
       "    energy3   energy4  correlation1  correlation2  correlation3  correlation4  \\\n",
       "0  0.214469  0.205028      0.895421      0.864810      0.906165      0.862465   \n",
       "1  0.180325  0.171641      0.969317      0.959636      0.974818      0.958198   \n",
       "2  0.232777  0.221043      0.969677      0.958555      0.973180      0.957760   \n",
       "3  0.181765  0.170025      0.959890      0.947522      0.966923      0.945591   \n",
       "4  0.233649  0.221646      0.949499      0.932350      0.958399      0.931763   \n",
       "\n",
       "   Class  \n",
       "0      0  \n",
       "1      0  \n",
       "2      0  \n",
       "3      0  \n",
       "4      0  \n",
       "\n",
       "[5 rows x 40 columns]"
      ]
     },
     "execution_count": 3,
     "metadata": {},
     "output_type": "execute_result"
    }
   ],
   "source": [
    "data_train =pd.read_csv('training_dataset.csv')\n",
    "data_train .head()"
   ]
  },
  {
   "cell_type": "code",
   "execution_count": 4,
   "id": "c66d2a99-60da-485c-999f-63c21eb2400d",
   "metadata": {},
   "outputs": [
    {
     "data": {
      "text/html": [
       "<div>\n",
       "<style scoped>\n",
       "    .dataframe tbody tr th:only-of-type {\n",
       "        vertical-align: middle;\n",
       "    }\n",
       "\n",
       "    .dataframe tbody tr th {\n",
       "        vertical-align: top;\n",
       "    }\n",
       "\n",
       "    .dataframe thead th {\n",
       "        text-align: right;\n",
       "    }\n",
       "</style>\n",
       "<table border=\"1\" class=\"dataframe\">\n",
       "  <thead>\n",
       "    <tr style=\"text-align: right;\">\n",
       "      <th></th>\n",
       "      <th>Mean</th>\n",
       "      <th>std</th>\n",
       "      <th>Variance</th>\n",
       "      <th>Skewness</th>\n",
       "      <th>Entropy</th>\n",
       "      <th>RMS</th>\n",
       "      <th>Kurtios</th>\n",
       "      <th>HMI1</th>\n",
       "      <th>HMI2</th>\n",
       "      <th>HMI3</th>\n",
       "      <th>...</th>\n",
       "      <th>homogeneity4</th>\n",
       "      <th>energy1</th>\n",
       "      <th>energy2</th>\n",
       "      <th>energy3</th>\n",
       "      <th>energy4</th>\n",
       "      <th>correlation1</th>\n",
       "      <th>correlation2</th>\n",
       "      <th>correlation3</th>\n",
       "      <th>correlation4</th>\n",
       "      <th>Class</th>\n",
       "    </tr>\n",
       "  </thead>\n",
       "  <tbody>\n",
       "    <tr>\n",
       "      <th>0</th>\n",
       "      <td>50.539923</td>\n",
       "      <td>57.317611</td>\n",
       "      <td>3285.308586</td>\n",
       "      <td>1.992440</td>\n",
       "      <td>6.159680</td>\n",
       "      <td>11.159507</td>\n",
       "      <td>3.412302</td>\n",
       "      <td>2.619346</td>\n",
       "      <td>7.517582</td>\n",
       "      <td>11.172308</td>\n",
       "      <td>...</td>\n",
       "      <td>0.501064</td>\n",
       "      <td>0.304583</td>\n",
       "      <td>0.295839</td>\n",
       "      <td>0.310390</td>\n",
       "      <td>0.295836</td>\n",
       "      <td>0.903205</td>\n",
       "      <td>0.877960</td>\n",
       "      <td>0.921479</td>\n",
       "      <td>0.879440</td>\n",
       "      <td>0</td>\n",
       "    </tr>\n",
       "    <tr>\n",
       "      <th>1</th>\n",
       "      <td>29.926339</td>\n",
       "      <td>52.966868</td>\n",
       "      <td>2805.489070</td>\n",
       "      <td>2.501142</td>\n",
       "      <td>4.874646</td>\n",
       "      <td>7.413451</td>\n",
       "      <td>5.950644</td>\n",
       "      <td>2.483199</td>\n",
       "      <td>7.457868</td>\n",
       "      <td>9.281168</td>\n",
       "      <td>...</td>\n",
       "      <td>0.512756</td>\n",
       "      <td>0.404275</td>\n",
       "      <td>0.381825</td>\n",
       "      <td>0.421123</td>\n",
       "      <td>0.409811</td>\n",
       "      <td>0.900932</td>\n",
       "      <td>0.856400</td>\n",
       "      <td>0.937271</td>\n",
       "      <td>0.912609</td>\n",
       "      <td>0</td>\n",
       "    </tr>\n",
       "    <tr>\n",
       "      <th>2</th>\n",
       "      <td>44.846301</td>\n",
       "      <td>52.992918</td>\n",
       "      <td>2808.249404</td>\n",
       "      <td>1.579595</td>\n",
       "      <td>5.681016</td>\n",
       "      <td>10.138107</td>\n",
       "      <td>1.537324</td>\n",
       "      <td>2.583508</td>\n",
       "      <td>6.966842</td>\n",
       "      <td>10.003352</td>\n",
       "      <td>...</td>\n",
       "      <td>0.320199</td>\n",
       "      <td>0.141508</td>\n",
       "      <td>0.134624</td>\n",
       "      <td>0.145919</td>\n",
       "      <td>0.134366</td>\n",
       "      <td>0.938467</td>\n",
       "      <td>0.919530</td>\n",
       "      <td>0.952549</td>\n",
       "      <td>0.919808</td>\n",
       "      <td>0</td>\n",
       "    </tr>\n",
       "    <tr>\n",
       "      <th>3</th>\n",
       "      <td>29.401541</td>\n",
       "      <td>32.959523</td>\n",
       "      <td>1086.330163</td>\n",
       "      <td>1.286740</td>\n",
       "      <td>5.590507</td>\n",
       "      <td>8.397827</td>\n",
       "      <td>1.646578</td>\n",
       "      <td>2.538401</td>\n",
       "      <td>8.401280</td>\n",
       "      <td>9.991805</td>\n",
       "      <td>...</td>\n",
       "      <td>0.282261</td>\n",
       "      <td>0.101256</td>\n",
       "      <td>0.095177</td>\n",
       "      <td>0.102132</td>\n",
       "      <td>0.099396</td>\n",
       "      <td>0.850481</td>\n",
       "      <td>0.784068</td>\n",
       "      <td>0.853707</td>\n",
       "      <td>0.829843</td>\n",
       "      <td>0</td>\n",
       "    </tr>\n",
       "    <tr>\n",
       "      <th>4</th>\n",
       "      <td>54.835967</td>\n",
       "      <td>33.073988</td>\n",
       "      <td>1093.888670</td>\n",
       "      <td>1.096225</td>\n",
       "      <td>5.266952</td>\n",
       "      <td>10.538600</td>\n",
       "      <td>-0.244438</td>\n",
       "      <td>2.772886</td>\n",
       "      <td>7.679045</td>\n",
       "      <td>11.160145</td>\n",
       "      <td>...</td>\n",
       "      <td>0.494495</td>\n",
       "      <td>0.328976</td>\n",
       "      <td>0.322931</td>\n",
       "      <td>0.332120</td>\n",
       "      <td>0.320055</td>\n",
       "      <td>0.907303</td>\n",
       "      <td>0.882022</td>\n",
       "      <td>0.915182</td>\n",
       "      <td>0.877200</td>\n",
       "      <td>0</td>\n",
       "    </tr>\n",
       "  </tbody>\n",
       "</table>\n",
       "<p>5 rows × 40 columns</p>\n",
       "</div>"
      ],
      "text/plain": [
       "        Mean        std     Variance  Skewness   Entropy        RMS   Kurtios  \\\n",
       "0  50.539923  57.317611  3285.308586  1.992440  6.159680  11.159507  3.412302   \n",
       "1  29.926339  52.966868  2805.489070  2.501142  4.874646   7.413451  5.950644   \n",
       "2  44.846301  52.992918  2808.249404  1.579595  5.681016  10.138107  1.537324   \n",
       "3  29.401541  32.959523  1086.330163  1.286740  5.590507   8.397827  1.646578   \n",
       "4  54.835967  33.073988  1093.888670  1.096225  5.266952  10.538600 -0.244438   \n",
       "\n",
       "       HMI1      HMI2       HMI3  ...  homogeneity4   energy1   energy2  \\\n",
       "0  2.619346  7.517582  11.172308  ...      0.501064  0.304583  0.295839   \n",
       "1  2.483199  7.457868   9.281168  ...      0.512756  0.404275  0.381825   \n",
       "2  2.583508  6.966842  10.003352  ...      0.320199  0.141508  0.134624   \n",
       "3  2.538401  8.401280   9.991805  ...      0.282261  0.101256  0.095177   \n",
       "4  2.772886  7.679045  11.160145  ...      0.494495  0.328976  0.322931   \n",
       "\n",
       "    energy3   energy4  correlation1  correlation2  correlation3  correlation4  \\\n",
       "0  0.310390  0.295836      0.903205      0.877960      0.921479      0.879440   \n",
       "1  0.421123  0.409811      0.900932      0.856400      0.937271      0.912609   \n",
       "2  0.145919  0.134366      0.938467      0.919530      0.952549      0.919808   \n",
       "3  0.102132  0.099396      0.850481      0.784068      0.853707      0.829843   \n",
       "4  0.332120  0.320055      0.907303      0.882022      0.915182      0.877200   \n",
       "\n",
       "   Class  \n",
       "0      0  \n",
       "1      0  \n",
       "2      0  \n",
       "3      0  \n",
       "4      0  \n",
       "\n",
       "[5 rows x 40 columns]"
      ]
     },
     "execution_count": 4,
     "metadata": {},
     "output_type": "execute_result"
    }
   ],
   "source": [
    "data_test = pd.read_csv('testing_dataset.csv')\n",
    "data_test.head()"
   ]
  },
  {
   "cell_type": "code",
   "execution_count": 5,
   "id": "3685d1cf-8b8a-41bf-b8f1-add8c0355d86",
   "metadata": {},
   "outputs": [],
   "source": [
    "import warnings\n",
    "warnings.filterwarnings(\"ignore\")"
   ]
  },
  {
   "cell_type": "code",
   "execution_count": 6,
   "id": "777573d0-8b19-43ff-a452-4ba79e431a88",
   "metadata": {},
   "outputs": [],
   "source": [
    "# df = df.dropna()\n",
    "\n",
    "missing_data = ['Area', 'Perimeter', 'Circle', 'Convex Area', 'Solidity', 'Equivalent Diameter', 'Major Axis', 'Minor Axis']\n",
    "for i in missing_data:\n",
    "    fill_list = data_train[i].dropna().tolist()\n",
    "    data_train [i] = data_train[i].fillna(pd.Series(np.random.choice(fill_list , size = len(data_train.index))))\n",
    "# data_train.isnull().sum()"
   ]
  },
  {
   "cell_type": "code",
   "execution_count": 7,
   "id": "e37fd5e9-43fb-4753-809b-27ef56bb8115",
   "metadata": {},
   "outputs": [],
   "source": [
    "# df = df.dropna()\n",
    "\n",
    "missing_data = ['Area', 'Perimeter', 'Circle', 'Convex Area', 'Solidity', 'Equivalent Diameter', 'Major Axis', 'Minor Axis']\n",
    "for i in missing_data:\n",
    "    fill_list = data_test[i].dropna().tolist()\n",
    "    data_test[i] = data_test[i].fillna(pd.Series(np.random.choice(fill_list , size = len(data_test.index))))\n",
    "# data_test.isnull().sum()"
   ]
  },
  {
   "cell_type": "code",
   "execution_count": 8,
   "id": "730062f5-1874-4fd5-93a7-9a0ba038475c",
   "metadata": {},
   "outputs": [],
   "source": [
    "X = data_train.drop(columns=[\"Class\"])\n",
    "y = data_train[\"Class\"]\n",
    "Xt = data_test.drop(columns=[\"Class\"])\n",
    "yt = data_test[\"Class\"]"
   ]
  },
  {
   "cell_type": "markdown",
   "id": "5fa76ffc-e650-4d2e-936c-2cb28c6e284f",
   "metadata": {},
   "source": [
    "feature selection"
   ]
  },
  {
   "cell_type": "code",
   "execution_count": 9,
   "id": "dc2c9104-f766-4bd9-8793-f2e646778fe9",
   "metadata": {},
   "outputs": [],
   "source": [
    "from sklearn.feature_selection import SelectKBest, mutual_info_classif\n",
    "\n",
    "# Initialize the feature selector\n",
    "k_best = SelectKBest(score_func=mutual_info_classif, k=25)  # Select the top 2 features based on mutual information\n",
    "\n",
    "feature_names = ['Mean', 'std', 'Variance','Skewness','Entropy', 'RMS', 'Kurtios', 'HMI1', 'HMI2', 'HMI3',\n",
    "       'HMI4', 'Area', 'Perimeter', 'Circle', 'Convex Area', 'Solidity',\n",
    "       'Equivalent Diameter', 'Major Axis', 'Minor Axis', 'contrast1',\n",
    "       'contrast2', 'contrast3', 'contrast4', 'dissimilarity1',\n",
    "       'dissimilarity2', 'dissimilarity3', 'dissimilarity4', 'homogeneity1',\n",
    "       'homogeneity2', 'homogeneity3', 'homogeneity4', 'energy1', 'energy2',\n",
    "       'energy3', 'energy4', 'correlation1', 'correlation2', 'correlation3',\n",
    "       'correlation4']\n",
    "\n",
    "# Apply feature selection to the data\n",
    "X_selected = k_best.fit_transform(X, y)\n",
    "\n",
    "# Get the selected feature indices and scores\n",
    "selected_indices = k_best.get_support(indices=True)\n",
    "selected_scores = k_best.scores_\n",
    "\n",
    "# Sort the features based on scores in ascending order\n",
    "sorted_features = sorted(zip(selected_indices, selected_scores), key=lambda x: x[1], reverse=True)\n",
    "X_select = pd.DataFrame()\n",
    "# Print the top 20 features in ascending order\n",
    "ll=[]\n",
    "for idx, score in sorted_features[:25]:\n",
    "    ll.append(feature_names[idx])"
   ]
  },
  {
   "cell_type": "markdown",
   "id": "47cd21fc-0fb5-43f6-9845-34bb0322604a",
   "metadata": {},
   "source": [
    "models with whole dataset"
   ]
  },
  {
   "cell_type": "code",
   "execution_count": 10,
   "id": "a98b8a31-b461-4ace-93fb-2e1f9f8d3333",
   "metadata": {},
   "outputs": [],
   "source": [
    "from sklearn.model_selection import train_test_split\n",
    "X_train,X_val,y_train,y_val = train_test_split(X,y,test_size=0.2,random_state=42,shuffle=True)\n",
    "X_train,X_test,y_train,y_test = train_test_split(X,y,test_size=0.2,random_state=42)"
   ]
  },
  {
   "cell_type": "markdown",
   "id": "c6b55556-536a-4c10-b432-cb839b34b883",
   "metadata": {},
   "source": [
    "Linear Regression"
   ]
  },
  {
   "cell_type": "code",
   "execution_count": 11,
   "id": "2237ef9f-19f7-486e-bbe5-5aba456d0279",
   "metadata": {},
   "outputs": [
    {
     "name": "stdout",
     "output_type": "stream",
     "text": [
      "              precision    recall  f1-score   support\n",
      "\n",
      "           0       0.67      0.83      0.74       346\n",
      "           1       0.47      0.48      0.48       284\n",
      "           2       0.58      0.52      0.55       262\n",
      "           3       0.53      0.39      0.45       251\n",
      "\n",
      "    accuracy                           0.58      1143\n",
      "   macro avg       0.56      0.56      0.55      1143\n",
      "weighted avg       0.57      0.58      0.57      1143\n",
      "\n"
     ]
    }
   ],
   "source": [
    "from sklearn.linear_model import LogisticRegression\n",
    "classifier=LogisticRegression(random_state=0)\n",
    "lr_model=classifier.fit(X_train,y_train)\n",
    "y_pred=lr_model.predict(X_test)\n",
    "from sklearn.metrics import classification_report, confusion_matrix \n",
    "print(classification_report(y_test, y_pred))"
   ]
  },
  {
   "cell_type": "markdown",
   "id": "9408d644-330b-4f60-b022-5c1c90f842f1",
   "metadata": {},
   "source": [
    "Building The Model"
   ]
  },
  {
   "cell_type": "code",
   "execution_count": 48,
   "id": "0d109c25-1680-49b4-a57b-7636ba7e34bc",
   "metadata": {},
   "outputs": [],
   "source": [
    "# import modules to create model\n",
    "\n",
    "from keras.models import Sequential\n",
    "from scikeras.wrappers import KerasClassifier\n",
    "from sklearn.model_selection import GridSearchCV\n",
    "from keras.layers import Dense, Activation,  Dropout\n",
    "from keras.activations import relu, sigmoid\n",
    "param_grid= {\n",
    "    'activation':['sigmoid', 'relu'],\n",
    "    'layers':[(40, 20), (45, 30, 15), (60,40,25,10),(80,60,40,25,10)],\n",
    "    'batch_size':[128, 256]\n",
    "}\n",
    "#Build Model\n",
    "\n",
    "def build_model(layers, activation):\n",
    "    model = Sequential()\n",
    "    for i, nodes in enumerate(layers):\n",
    "        if i==0:\n",
    "            model.add(Dense(nodes,input_dim=X_train.shape[1]))\n",
    "            model.add(Activation(activation))\n",
    "            \n",
    "        else:\n",
    "            model.add(Dense(nodes))\n",
    "            model.add(Activation(activation))\n",
    "            \n",
    "    model.add(Dense(1)) \n",
    "    \n",
    "    model.compile(optimizer='adam', loss='binary_crossentropy',metrics=['accuracy'])\n",
    "    return model\n",
    "    \n",
    "model = KerasClassifier(build_fn=build_model, verbose=0, activation=['sigmoid', 'relu'], layers = [(40, 20), (45, 30, 15), (60,40,25,10),(80,60,40,25,10)], batch_size= [128, 256])"
   ]
  },
  {
   "cell_type": "code",
   "execution_count": 49,
   "id": "42a29002-5cf6-4f32-8b75-9cb3ded1755c",
   "metadata": {},
   "outputs": [],
   "source": [
    "grid = GridSearchCV(estimator=model, param_grid=param_grid, cv=5)"
   ]
  },
  {
   "cell_type": "code",
   "execution_count": 50,
   "id": "a565fb72-8afd-49dc-8205-5ba6622bc15a",
   "metadata": {},
   "outputs": [],
   "source": [
    "#fit train data\n",
    "grid_result = grid.fit(X_train, y_train,epochs=10)"
   ]
  },
  {
   "cell_type": "code",
   "execution_count": 51,
   "id": "446047b9-5cb6-4f9f-84d5-1005bc7f7f42",
   "metadata": {
    "scrolled": true
   },
   "outputs": [
    {
     "data": {
      "text/html": [
       "<style>#sk-container-id-2 {color: black;}#sk-container-id-2 pre{padding: 0;}#sk-container-id-2 div.sk-toggleable {background-color: white;}#sk-container-id-2 label.sk-toggleable__label {cursor: pointer;display: block;width: 100%;margin-bottom: 0;padding: 0.3em;box-sizing: border-box;text-align: center;}#sk-container-id-2 label.sk-toggleable__label-arrow:before {content: \"▸\";float: left;margin-right: 0.25em;color: #696969;}#sk-container-id-2 label.sk-toggleable__label-arrow:hover:before {color: black;}#sk-container-id-2 div.sk-estimator:hover label.sk-toggleable__label-arrow:before {color: black;}#sk-container-id-2 div.sk-toggleable__content {max-height: 0;max-width: 0;overflow: hidden;text-align: left;background-color: #f0f8ff;}#sk-container-id-2 div.sk-toggleable__content pre {margin: 0.2em;color: black;border-radius: 0.25em;background-color: #f0f8ff;}#sk-container-id-2 input.sk-toggleable__control:checked~div.sk-toggleable__content {max-height: 200px;max-width: 100%;overflow: auto;}#sk-container-id-2 input.sk-toggleable__control:checked~label.sk-toggleable__label-arrow:before {content: \"▾\";}#sk-container-id-2 div.sk-estimator input.sk-toggleable__control:checked~label.sk-toggleable__label {background-color: #d4ebff;}#sk-container-id-2 div.sk-label input.sk-toggleable__control:checked~label.sk-toggleable__label {background-color: #d4ebff;}#sk-container-id-2 input.sk-hidden--visually {border: 0;clip: rect(1px 1px 1px 1px);clip: rect(1px, 1px, 1px, 1px);height: 1px;margin: -1px;overflow: hidden;padding: 0;position: absolute;width: 1px;}#sk-container-id-2 div.sk-estimator {font-family: monospace;background-color: #f0f8ff;border: 1px dotted black;border-radius: 0.25em;box-sizing: border-box;margin-bottom: 0.5em;}#sk-container-id-2 div.sk-estimator:hover {background-color: #d4ebff;}#sk-container-id-2 div.sk-parallel-item::after {content: \"\";width: 100%;border-bottom: 1px solid gray;flex-grow: 1;}#sk-container-id-2 div.sk-label:hover label.sk-toggleable__label {background-color: #d4ebff;}#sk-container-id-2 div.sk-serial::before {content: \"\";position: absolute;border-left: 1px solid gray;box-sizing: border-box;top: 0;bottom: 0;left: 50%;z-index: 0;}#sk-container-id-2 div.sk-serial {display: flex;flex-direction: column;align-items: center;background-color: white;padding-right: 0.2em;padding-left: 0.2em;position: relative;}#sk-container-id-2 div.sk-item {position: relative;z-index: 1;}#sk-container-id-2 div.sk-parallel {display: flex;align-items: stretch;justify-content: center;background-color: white;position: relative;}#sk-container-id-2 div.sk-item::before, #sk-container-id-2 div.sk-parallel-item::before {content: \"\";position: absolute;border-left: 1px solid gray;box-sizing: border-box;top: 0;bottom: 0;left: 50%;z-index: -1;}#sk-container-id-2 div.sk-parallel-item {display: flex;flex-direction: column;z-index: 1;position: relative;background-color: white;}#sk-container-id-2 div.sk-parallel-item:first-child::after {align-self: flex-end;width: 50%;}#sk-container-id-2 div.sk-parallel-item:last-child::after {align-self: flex-start;width: 50%;}#sk-container-id-2 div.sk-parallel-item:only-child::after {width: 0;}#sk-container-id-2 div.sk-dashed-wrapped {border: 1px dashed gray;margin: 0 0.4em 0.5em 0.4em;box-sizing: border-box;padding-bottom: 0.4em;background-color: white;}#sk-container-id-2 div.sk-label label {font-family: monospace;font-weight: bold;display: inline-block;line-height: 1.2em;}#sk-container-id-2 div.sk-label-container {text-align: center;}#sk-container-id-2 div.sk-container {/* jupyter's `normalize.less` sets `[hidden] { display: none; }` but bootstrap.min.css set `[hidden] { display: none !important; }` so we also need the `!important` here to be able to override the default hidden behavior on the sphinx rendered scikit-learn.org. See: https://github.com/scikit-learn/scikit-learn/issues/21755 */display: inline-block !important;position: relative;}#sk-container-id-2 div.sk-text-repr-fallback {display: none;}</style><div id=\"sk-container-id-2\" class=\"sk-top-container\"><div class=\"sk-text-repr-fallback\"><pre>GridSearchCV(cv=5,\n",
       "             estimator=KerasClassifier(activation=[&#x27;sigmoid&#x27;, &#x27;relu&#x27;], batch_size=[128, 256], build_fn=&lt;function build_model at 0x0000027D16BF3880&gt;, layers=[(40, 20), (45, 30, 15), (60, 40, 25, 10), (80, 60, 40, 25, 10)], verbose=0),\n",
       "             param_grid={&#x27;activation&#x27;: [&#x27;sigmoid&#x27;, &#x27;relu&#x27;],\n",
       "                         &#x27;batch_size&#x27;: [128, 256],\n",
       "                         &#x27;layers&#x27;: [(40, 20), (45, 30, 15), (60, 40, 25, 10),\n",
       "                                    (80, 60, 40, 25, 10)]})</pre><b>In a Jupyter environment, please rerun this cell to show the HTML representation or trust the notebook. <br />On GitHub, the HTML representation is unable to render, please try loading this page with nbviewer.org.</b></div><div class=\"sk-container\" hidden><div class=\"sk-item sk-dashed-wrapped\"><div class=\"sk-label-container\"><div class=\"sk-label sk-toggleable\"><input class=\"sk-toggleable__control sk-hidden--visually\" id=\"sk-estimator-id-4\" type=\"checkbox\" ><label for=\"sk-estimator-id-4\" class=\"sk-toggleable__label sk-toggleable__label-arrow\">GridSearchCV</label><div class=\"sk-toggleable__content\"><pre>GridSearchCV(cv=5,\n",
       "             estimator=KerasClassifier(activation=[&#x27;sigmoid&#x27;, &#x27;relu&#x27;], batch_size=[128, 256], build_fn=&lt;function build_model at 0x0000027D16BF3880&gt;, layers=[(40, 20), (45, 30, 15), (60, 40, 25, 10), (80, 60, 40, 25, 10)], verbose=0),\n",
       "             param_grid={&#x27;activation&#x27;: [&#x27;sigmoid&#x27;, &#x27;relu&#x27;],\n",
       "                         &#x27;batch_size&#x27;: [128, 256],\n",
       "                         &#x27;layers&#x27;: [(40, 20), (45, 30, 15), (60, 40, 25, 10),\n",
       "                                    (80, 60, 40, 25, 10)]})</pre></div></div></div><div class=\"sk-parallel\"><div class=\"sk-parallel-item\"><div class=\"sk-item\"><div class=\"sk-label-container\"><div class=\"sk-label sk-toggleable\"><input class=\"sk-toggleable__control sk-hidden--visually\" id=\"sk-estimator-id-5\" type=\"checkbox\" ><label for=\"sk-estimator-id-5\" class=\"sk-toggleable__label sk-toggleable__label-arrow\">estimator: KerasClassifier</label><div class=\"sk-toggleable__content\"><pre>KerasClassifier(\n",
       "\tmodel=None\n",
       "\tbuild_fn=&lt;function build_model at 0x0000027D16BF3880&gt;\n",
       "\twarm_start=False\n",
       "\trandom_state=None\n",
       "\toptimizer=rmsprop\n",
       "\tloss=None\n",
       "\tmetrics=None\n",
       "\tbatch_size=[128, 256]\n",
       "\tvalidation_batch_size=None\n",
       "\tverbose=0\n",
       "\tcallbacks=None\n",
       "\tvalidation_split=0.0\n",
       "\tshuffle=True\n",
       "\trun_eagerly=False\n",
       "\tepochs=1\n",
       "\tactivation=[&#x27;sigmoid&#x27;, &#x27;relu&#x27;]\n",
       "\tlayers=[(40, 20), (45, 30, 15), (60, 40, 25, 10), (80, 60, 40, 25, 10)]\n",
       "\tclass_weight=None\n",
       ")</pre></div></div></div><div class=\"sk-serial\"><div class=\"sk-item\"><div class=\"sk-estimator sk-toggleable\"><input class=\"sk-toggleable__control sk-hidden--visually\" id=\"sk-estimator-id-6\" type=\"checkbox\" ><label for=\"sk-estimator-id-6\" class=\"sk-toggleable__label sk-toggleable__label-arrow\">KerasClassifier</label><div class=\"sk-toggleable__content\"><pre>KerasClassifier(\n",
       "\tmodel=None\n",
       "\tbuild_fn=&lt;function build_model at 0x0000027D16BF3880&gt;\n",
       "\twarm_start=False\n",
       "\trandom_state=None\n",
       "\toptimizer=rmsprop\n",
       "\tloss=None\n",
       "\tmetrics=None\n",
       "\tbatch_size=[128, 256]\n",
       "\tvalidation_batch_size=None\n",
       "\tverbose=0\n",
       "\tcallbacks=None\n",
       "\tvalidation_split=0.0\n",
       "\tshuffle=True\n",
       "\trun_eagerly=False\n",
       "\tepochs=1\n",
       "\tactivation=[&#x27;sigmoid&#x27;, &#x27;relu&#x27;]\n",
       "\tlayers=[(40, 20), (45, 30, 15), (60, 40, 25, 10), (80, 60, 40, 25, 10)]\n",
       "\tclass_weight=None\n",
       ")</pre></div></div></div></div></div></div></div></div></div></div>"
      ],
      "text/plain": [
       "GridSearchCV(cv=5,\n",
       "             estimator=KerasClassifier(activation=['sigmoid', 'relu'], batch_size=[128, 256], build_fn=<function build_model at 0x0000027D16BF3880>, layers=[(40, 20), (45, 30, 15), (60, 40, 25, 10), (80, 60, 40, 25, 10)], verbose=0),\n",
       "             param_grid={'activation': ['sigmoid', 'relu'],\n",
       "                         'batch_size': [128, 256],\n",
       "                         'layers': [(40, 20), (45, 30, 15), (60, 40, 25, 10),\n",
       "                                    (80, 60, 40, 25, 10)]})"
      ]
     },
     "execution_count": 51,
     "metadata": {},
     "output_type": "execute_result"
    }
   ],
   "source": [
    "grid_result"
   ]
  },
  {
   "cell_type": "code",
   "execution_count": 61,
   "id": "8058ec1a-dc55-42ea-9d32-f6d0ec3529ab",
   "metadata": {},
   "outputs": [
    {
     "name": "stdout",
     "output_type": "stream",
     "text": [
      "              precision    recall  f1-score   support\n",
      "\n",
      "           0       0.91      0.91      0.91       346\n",
      "           1       0.79      0.70      0.74       284\n",
      "           2       0.63      0.71      0.67       262\n",
      "           3       0.72      0.70      0.71       251\n",
      "\n",
      "    accuracy                           0.77      1143\n",
      "   macro avg       0.76      0.76      0.76      1143\n",
      "weighted avg       0.77      0.77      0.77      1143\n",
      "\n"
     ]
    }
   ],
   "source": [
    "grid.fit(X_train, y_train)\n",
    "\n",
    "# Predict the labels for the test set\n",
    "y_pred = grid.predict(X_test)\n",
    "\n",
    "# Print the classification report\n",
    "print(classification_report(y_test, y_pred))\n"
   ]
  },
  {
   "cell_type": "markdown",
   "id": "5db82b0b-fb78-436f-aaf0-59189b60d20b",
   "metadata": {},
   "source": [
    "Hyperparameter Tuning"
   ]
  },
  {
   "cell_type": "code",
   "execution_count": 36,
   "id": "48737f12-48c2-42a7-b894-9c7848770828",
   "metadata": {},
   "outputs": [
    {
     "name": "stdout",
     "output_type": "stream",
     "text": [
      "Test Accuracy: 0.8993875765529309\n",
      "Train Accuracy: 1.0\n"
     ]
    }
   ],
   "source": [
    "from sklearn.ensemble import RandomForestClassifier\n",
    "from sklearn.model_selection import GridSearchCV\n",
    "\n",
    "# Choose a model (e.g., Random Forest)\n",
    "model = RandomForestClassifier()\n",
    "\n",
    "# Define hyperparameters and their ranges\n",
    "param_grid = {\n",
    "    'n_estimators': [50, 100, 200],\n",
    "    'max_depth': [None, 10, 20],\n",
    "    'min_samples_split': [2, 5, 10],\n",
    "    'min_samples_leaf': [1, 2, 4]\n",
    "}\n",
    "\n",
    "# Perform grid search to find the best combination of hyperparameters\n",
    "grid_search = GridSearchCV(estimator=model, param_grid=param_grid, cv=5, scoring='accuracy')\n",
    "grid_search.fit(X_train, y_train)\n",
    "\n",
    "# Get the best hyperparameters\n",
    "best_params = grid_search.best_params_\n",
    "\n",
    "# Train the model with the best hyperparameters\n",
    "best_model = RandomForestClassifier(**best_params)\n",
    "best_model.fit(X_train, y_train)\n",
    "\n",
    "# Evaluate the best model on the test set\n",
    "test_accuracy = best_model.score(X_test, y_test)\n",
    "print(\"Test Accuracy:\", test_accuracy)\n",
    "# Evaluate the best model on the train set\n",
    "train_accuracy = best_model.score(X_train, y_train)\n",
    "print(\"Train Accuracy:\", train_accuracy)\n"
   ]
  },
  {
   "cell_type": "code",
   "execution_count": 15,
   "id": "82a6151f-1b65-4440-8831-5f0638478539",
   "metadata": {},
   "outputs": [
    {
     "name": "stdout",
     "output_type": "stream",
     "text": [
      "Test Accuracy: 0.8923884514435696\n"
     ]
    }
   ],
   "source": [
    "from sklearn.ensemble import RandomForestClassifier\n",
    "from sklearn.model_selection import GridSearchCV\n",
    "\n",
    "# Choose a model (e.g., Random Forest)\n",
    "model = RandomForestClassifier()\n",
    "\n",
    "# Define hyperparameters and their ranges\n",
    "param_grid = {\n",
    "    'n_estimators': [50, 100, 200],\n",
    "    'max_depth': [None, 10, 20],\n",
    "    'min_samples_split': [2, 5, 10],\n",
    "    'min_samples_leaf': [1, 2, 4]\n",
    "}\n",
    "\n",
    "# Perform grid search to find the best combination of hyperparameters\n",
    "grid_search = GridSearchCV(estimator=model, param_grid=param_grid, cv=5, scoring='accuracy')\n",
    "grid_search.fit(X_train, y_train)\n",
    "\n",
    "# Get the best hyperparameters\n",
    "best_params = grid_search.best_params_\n",
    "\n",
    "# Train the model with the best hyperparameters\n",
    "best_model = RandomForestClassifier(**best_params)\n",
    "best_model.fit(X_train, y_train)\n",
    "\n",
    "# Evaluate the best model on the test set\n",
    "test_accuracy = best_model.score(X_test, y_test)\n",
    "print(\"Test Accuracy:\", test_accuracy)"
   ]
  },
  {
   "cell_type": "markdown",
   "id": "f7992892-8343-4a10-9766-56dd6d9a7ed1",
   "metadata": {},
   "source": [
    "Random Forest"
   ]
  },
  {
   "cell_type": "code",
   "execution_count": 30,
   "id": "1d553468-08ea-4f3c-a68f-c1aee2b87abe",
   "metadata": {},
   "outputs": [
    {
     "name": "stdout",
     "output_type": "stream",
     "text": [
      "Train Acc of Random Forest : 1.0\n",
      "Validation Acc of Random Forest : 0.9011373578302713\n",
      "Test Acc of Random Forest : 0.9181957186544343\n"
     ]
    }
   ],
   "source": [
    "from sklearn.ensemble import RandomForestClassifier\n",
    "rf_clf = RandomForestClassifier()\n",
    "# Fit the parameters before oversampling:\n",
    "rf_clf.fit(X_train, y_train)\n",
    "print(f\"Train Acc of Random Forest : {rf_clf.score(X_train,y_train)}\")\n",
    "print(f\"Validation Acc of Random Forest : {rf_clf.score(X_val,y_val)}\")\n",
    "print(f\"Test Acc of Random Forest : {rf_clf.score(Xt,yt) }\")\n",
    "accs.append([rf_clf.score(X_train,y_train),rf_clf.score(X_val,y_val),rf_clf.score(Xt,yt)])"
   ]
  },
  {
   "cell_type": "markdown",
   "id": "736dd20a-1c4c-4baa-9ad3-f2c2f91946f9",
   "metadata": {},
   "source": [
    "SVM"
   ]
  },
  {
   "cell_type": "code",
   "execution_count": 31,
   "id": "dd363c2f-eb20-4491-8c18-62554ce6aa74",
   "metadata": {},
   "outputs": [
    {
     "name": "stdout",
     "output_type": "stream",
     "text": [
      "Train Acc of SVM : 0.533493870402802\n",
      "Validation Acc of SVM : 0.5214348206474191\n",
      "Test Acc of SVM : 0.4984709480122324\n"
     ]
    }
   ],
   "source": [
    "from sklearn.svm import SVC\n",
    "clf1 = SVC(kernel='rbf')\n",
    "clf1.fit(X_train, y_train)\n",
    "print(f\"Train Acc of SVM : {clf1.score(X_train,y_train)}\")\n",
    "print(f\"Validation Acc of SVM : {clf1.score(X_val,y_val)}\")\n",
    "print(f\"Test Acc of SVM : {clf1.score(Xt,yt) }\")\n",
    "accs.append([clf1.score(X_train,y_train),clf1.score(X_val,y_val),clf1.score(Xt,yt)])"
   ]
  },
  {
   "cell_type": "markdown",
   "id": "da9d5fad-9400-4939-a0fc-8b6cac27a21a",
   "metadata": {},
   "source": [
    "XGBOOST"
   ]
  },
  {
   "cell_type": "code",
   "execution_count": 32,
   "id": "4420679b-c088-41f1-a89b-598961a17a33",
   "metadata": {},
   "outputs": [
    {
     "name": "stdout",
     "output_type": "stream",
     "text": [
      "Train acc of XGBoost: 1.0\n",
      "Validation Acc of XGBoost : 0.9238845144356955\n",
      "Test Acc of XGBoost : 0.9273700305810397\n"
     ]
    }
   ],
   "source": [
    "## make xgboost classifier\n",
    "\n",
    "from xgboost import XGBClassifier\n",
    "xgb = XGBClassifier()\n",
    "xgb.fit(X_train,y_train)\n",
    "print(f\"Train acc of XGBoost: {xgb.score(X_train,y_train)}\")\n",
    "print(f\"Validation Acc of XGBoost : {xgb.score(X_val,y_val)}\")\n",
    "print(f\"Test Acc of XGBoost : {xgb.score(Xt,yt) }\")\n",
    "accs.append([xgb.score(X_train,y_train),xgb.score(X_val,y_val),xgb.score(Xt,yt)])"
   ]
  },
  {
   "cell_type": "markdown",
   "id": "5826403d-a179-406b-9ece-76504e3a7c3b",
   "metadata": {},
   "source": [
    "PCA and StandardScaler"
   ]
  },
  {
   "cell_type": "code",
   "execution_count": 25,
   "id": "2c2d8180-ca52-4aee-91af-9f6f558bfa12",
   "metadata": {},
   "outputs": [],
   "source": [
    "from sklearn.decomposition import PCA\n",
    "from sklearn.preprocessing import StandardScaler\n",
    "pca_m = PCA(n_components=39)\n",
    "scaler = StandardScaler()\n",
    "# new_X = pca_m.fit_transform(X)\n",
    "new_X = scaler.fit_transform(X)\n",
    "scaler2 = StandardScaler()\n",
    "# new_Xt = pca_m.fit_transform(Xt)\n",
    "new_Xt = scaler2.fit_transform(Xt)"
   ]
  },
  {
   "cell_type": "markdown",
   "id": "01785cff-84c6-4b03-a0f6-e42bfa730fcc",
   "metadata": {},
   "source": [
    "split data after pca and scaler"
   ]
  },
  {
   "cell_type": "code",
   "execution_count": 26,
   "id": "d0f67b44-13e0-4146-b1e8-7109dd1179e5",
   "metadata": {},
   "outputs": [],
   "source": [
    "X_trainn,X_valn,y_trainn,y_valn = train_test_split(new_X,y,test_size=0.2,random_state=42,shuffle=True)"
   ]
  },
  {
   "cell_type": "markdown",
   "id": "cb790e2b-85a0-4647-9abd-80c2bfa3263e",
   "metadata": {},
   "source": [
    "RF PCA"
   ]
  },
  {
   "cell_type": "code",
   "execution_count": 27,
   "id": "7f16664d-21f8-4a2c-a523-d3ffcec94783",
   "metadata": {},
   "outputs": [
    {
     "name": "stdout",
     "output_type": "stream",
     "text": [
      "Train Acc of Random Forest PCA : 1.0\n",
      "Validation Acc of Random Forest PCA  : 0.8967629046369204\n",
      "Test Acc of Random Forest PCA  : 0.8302752293577982\n"
     ]
    }
   ],
   "source": [
    "from sklearn.ensemble import RandomForestClassifier\n",
    "rf_clf2 = RandomForestClassifier()\n",
    "# Fit the parameters before oversampling:\n",
    "rf_clf2.fit(X_trainn, y_trainn)\n",
    "print(f\"Train Acc of Random Forest PCA : {rf_clf2.score(X_trainn,y_trainn)}\")\n",
    "print(f\"Validation Acc of Random Forest PCA  : {rf_clf2.score(X_valn,y_valn)}\")\n",
    "print(f\"Test Acc of Random Forest PCA  : {rf_clf2.score(new_Xt,yt) }\")\n",
    "accs.append([rf_clf2.score(X_trainn,y_trainn),rf_clf2.score(X_valn,y_valn),rf_clf2.score(new_Xt,yt)])"
   ]
  },
  {
   "cell_type": "markdown",
   "id": "9a152cbb-bdcb-418a-a61a-3d1c9e94cfa3",
   "metadata": {},
   "source": [
    "SVM PCA"
   ]
  },
  {
   "cell_type": "code",
   "execution_count": 28,
   "id": "0582da15-dbdf-466d-877a-ad1c49362593",
   "metadata": {},
   "outputs": [
    {
     "name": "stdout",
     "output_type": "stream",
     "text": [
      "Train Acc of SVM PCA : 0.8544220665499125\n",
      "Validation Acc of SVM PCA  : 0.8521434820647419\n",
      "Test Acc of SVM PCA  : 0.8065749235474006\n"
     ]
    }
   ],
   "source": [
    "from sklearn.svm import SVC\n",
    "clf2 = SVC(kernel='rbf')\n",
    "clf2.fit(X_trainn, y_trainn)\n",
    "\n",
    "print(f\"Train Acc of SVM PCA : {clf2.score(X_trainn,y_trainn)}\")\n",
    "print(f\"Validation Acc of SVM PCA  : {clf2.score(X_valn,y_valn)}\")\n",
    "print(f\"Test Acc of SVM PCA  : {clf2.score(new_Xt,yt) }\")\n",
    "accs.append([clf2.score(X_trainn,y_trainn),clf2.score(X_valn,y_valn),clf2.score(new_Xt,yt)])"
   ]
  },
  {
   "cell_type": "markdown",
   "id": "ab4a2560-de8a-4f9a-a501-7e5cf14ad969",
   "metadata": {},
   "source": [
    "XGBoost PCA"
   ]
  },
  {
   "cell_type": "code",
   "execution_count": 33,
   "id": "a34055bc-f3ea-4946-b659-324ba45bdc2f",
   "metadata": {},
   "outputs": [
    {
     "name": "stdout",
     "output_type": "stream",
     "text": [
      "Train acc of XGBoost PCA : 1.0\n",
      "Validation Acc of XGBoost PCA  : 0.9230096237970253\n",
      "Test Acc of XGBoost PCA  : 0.8685015290519877\n"
     ]
    }
   ],
   "source": [
    "## make xgboost classifier\n",
    "\n",
    "xgb2 = XGBClassifier()\n",
    "xgb2.fit(X_trainn,y_trainn)\n",
    "print(f\"Train acc of XGBoost PCA : {xgb2.score(X_trainn,y_trainn)}\")\n",
    "print(f\"Validation Acc of XGBoost PCA  : {xgb2.score(X_valn,y_valn)}\")\n",
    "print(f\"Test Acc of XGBoost PCA  : {xgb2.score(new_Xt,yt) }\")\n",
    "accs.append([xgb2.score(X_trainn,y_trainn),xgb2.score(X_valn,y_valn),xgb2.score(new_Xt,yt)])"
   ]
  },
  {
   "cell_type": "markdown",
   "id": "b6c05402-ac7b-4382-a712-3c672d964406",
   "metadata": {},
   "source": [
    "Ensembel Method"
   ]
  },
  {
   "cell_type": "code",
   "execution_count": 12,
   "id": "a4408533-284b-4895-9c76-757e7d93830c",
   "metadata": {},
   "outputs": [
    {
     "name": "stdout",
     "output_type": "stream",
     "text": [
      "0.19326002144482027\n"
     ]
    }
   ],
   "source": [
    "# importing utility modules\n",
    "import pandas as pd\n",
    "from sklearn.model_selection import train_test_split\n",
    "from sklearn.metrics import mean_squared_error\n",
    "\n",
    "# importing machine learning models for prediction\n",
    "from sklearn.ensemble import RandomForestRegressor\n",
    "import xgboost as xgb\n",
    "from sklearn.linear_model import LinearRegression\n",
    "X_train,X_test,y_train,y_test = train_test_split(X,y,test_size=0.2,random_state=42)\n",
    "\n",
    "\n",
    "# initializing all the model objects with default parameters\n",
    "model_1 = LinearRegression()\n",
    "model_2 = xgb.XGBRegressor()\n",
    "model_3 = RandomForestRegressor()\n",
    "\n",
    "# training all the model on the training dataset\n",
    "model_1.fit(X_train, y_train)\n",
    "model_2.fit(X_train, y_train)\n",
    "model_3.fit(X_train, y_train)\n",
    "\n",
    "# predicting the output on the validation dataset\n",
    "pred_1 = model_1.predict(X_test)\n",
    "pred_2 = model_2.predict(X_test)\n",
    "pred_3 = model_3.predict(X_test)\n",
    "\n",
    "# final prediction after averaging on the prediction of all 3 models\n",
    "pred_final = (pred_1+pred_2+pred_3)/3.0\n",
    "\n",
    "# printing the mean squared error between real value and predicted value\n",
    "print(mean_squared_error(y_test, pred_final))"
   ]
  },
  {
   "cell_type": "code",
   "execution_count": 34,
   "id": "5e155ffb-3ef8-4737-8183-fbbb70e481d9",
   "metadata": {},
   "outputs": [],
   "source": [
    "import numpy as np\n",
    "import matplotlib.pyplot as plt\n",
    "import seaborn as sns\n",
    "from sklearn.metrics import accuracy_score, precision_score, recall_score, f1_score, confusion_matrix, classification_report\n",
    "\n",
    "def evaluate_classification_model(model, X_test, y_test):\n",
    "    # Make predictions on the test set\n",
    "    y_pred = model.predict(X_test)\n",
    "\n",
    "    # Compute evaluation metrics\n",
    "    accuracy = accuracy_score(y_test, y_pred)\n",
    "    precision = precision_score(y_test, y_pred, average='weighted')\n",
    "    recall = recall_score(y_test, y_pred, average='weighted')\n",
    "    f1 = f1_score(y_test, y_pred, average='weighted')\n",
    "    cm = confusion_matrix(y_test, y_pred)\n",
    "\n",
    "    # Print the evaluation metrics\n",
    "    print(\"Accuracy:\", accuracy)\n",
    "    print(\"Precision:\", precision)\n",
    "    print(\"Recall:\", recall)\n",
    "    print(\"F1-score:\", f1)\n",
    "\n",
    "    # Plot the confusion matrix\n",
    "    labels = np.unique(y_test)\n",
    "    sns.heatmap(cm, annot=True, fmt='d', cmap='Blues', xticklabels=labels, yticklabels=labels)\n",
    "    plt.title('Confusion Matrix')\n",
    "    plt.xlabel('Predicted Label')\n",
    "    plt.ylabel('True Label')\n",
    "    plt.show()"
   ]
  },
  {
   "cell_type": "code",
   "execution_count": 42,
   "id": "966eb94a-12f5-48aa-bc4d-1e4940cb1ede",
   "metadata": {},
   "outputs": [
    {
     "name": "stdout",
     "output_type": "stream",
     "text": [
      "Accuracy: 1.0\n",
      "Precision: 1.0\n",
      "Recall: 1.0\n",
      "F1-score: 1.0\n"
     ]
    },
    {
     "data": {
      "image/png": "[encoded data removed]",
      "text/plain": [
       "<Figure size 640x480 with 2 Axes>"
      ]
     },
     "metadata": {},
     "output_type": "display_data"
    }
   ],
   "source": [
    "evaluate_classification_model(rf_clf,X_train, y_train)"
   ]
  },
  {
   "cell_type": "code",
   "execution_count": 41,
   "id": "bdd96667-d48d-4041-b735-eafdae9b248f",
   "metadata": {},
   "outputs": [
    {
     "name": "stdout",
     "output_type": "stream",
     "text": [
      "Accuracy: 0.533493870402802\n",
      "Precision: 0.5844142180625619\n",
      "Recall: 0.533493870402802\n",
      "F1-score: 0.510241736522251\n"
     ]
    },
    {
     "data": {
      "image/png": "[encoded data removed]",
      "text/plain": [
       "<Figure size 640x480 with 2 Axes>"
      ]
     },
     "metadata": {},
     "output_type": "display_data"
    }
   ],
   "source": [
    "evaluate_classification_model(clf1,X_train,y_train)"
   ]
  },
  {
   "cell_type": "code",
   "execution_count": 38,
   "id": "039924c2-4502-4ab8-8b73-f9c7ad08a2d1",
   "metadata": {},
   "outputs": [
    {
     "name": "stdout",
     "output_type": "stream",
     "text": [
      "Accuracy: 1.0\n",
      "Precision: 1.0\n",
      "Recall: 1.0\n",
      "F1-score: 1.0\n"
     ]
    },
    {
     "data": {
      "image/png": "[encoded data removed]",
      "text/plain": [
       "<Figure size 640x480 with 2 Axes>"
      ]
     },
     "metadata": {},
     "output_type": "display_data"
    }
   ],
   "source": [
    "evaluate_classification_model(xgb,X_train,y_train)"
   ]
  },
  {
   "cell_type": "markdown",
   "id": "721a8490-43f9-4a25-8393-1c256e68cd47",
   "metadata": {},
   "source": []
  },
  {
   "cell_type": "code",
   "execution_count": null,
   "id": "c533ffff-88fe-4162-9a60-3f8d60e5e06b",
   "metadata": {},
   "outputs": [],
   "source": []
  }
 ],
 "metadata": {
  "kernelspec": {
   "display_name": "Python 3 (ipykernel)",
   "language": "python",
   "name": "python3"
  },
  "language_info": {
   "codemirror_mode": {
    "name": "ipython",
    "version": 3
   },
   "file_extension": ".py",
   "mimetype": "text/x-python",
   "name": "python",
   "nbconvert_exporter": "python",
   "pygments_lexer": "ipython3",
   "version": "3.11.7"
  }
 },
 "nbformat": 4,
 "nbformat_minor": 5
}
